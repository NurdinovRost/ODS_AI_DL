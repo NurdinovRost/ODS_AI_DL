{
 "cells": [
  {
   "cell_type": "markdown",
   "metadata": {},
   "source": [
    "# Задание 2.1 - Нейронные сети\n",
    "\n",
    "В этом задании вы реализуете и натренируете настоящую нейроную сеть своими руками!\n",
    "\n",
    "В некотором смысле это будет расширением прошлого задания - нам нужно просто составить несколько линейных классификаторов вместе!\n",
    "\n",
    "<img src=\"https://i.redd.it/n9fgba8b0qr01.png\" alt=\"Stack_more_layers\" width=\"400px\"/>"
   ]
  },
  {
   "cell_type": "code",
   "execution_count": 1,
   "metadata": {},
   "outputs": [],
   "source": [
    "import numpy as np\n",
    "import matplotlib.pyplot as plt\n",
    "\n",
    "%matplotlib inline\n",
    "\n",
    "%load_ext autoreload\n",
    "%autoreload 2"
   ]
  },
  {
   "cell_type": "code",
   "execution_count": 2,
   "metadata": {},
   "outputs": [],
   "source": [
    "from dataset import load_svhn, random_split_train_val\n",
    "from gradient_check import check_layer_gradient, check_layer_param_gradient, check_model_gradient\n",
    "from layers import FullyConnectedLayer, ReLULayer\n",
    "from model import TwoLayerNet\n",
    "from trainer import Trainer, Dataset\n",
    "from optim import SGD, MomentumSGD\n",
    "from metrics import multiclass_accuracy"
   ]
  },
  {
   "cell_type": "markdown",
   "metadata": {},
   "source": [
    "# Загружаем данные\n",
    "\n",
    "И разделяем их на training и validation."
   ]
  },
  {
   "cell_type": "code",
   "execution_count": 3,
   "metadata": {},
   "outputs": [],
   "source": [
    "# !./download_data.sh"
   ]
  },
  {
   "cell_type": "code",
   "execution_count": 4,
   "metadata": {},
   "outputs": [],
   "source": [
    "def prepare_for_neural_network(train_X, test_X):\n",
    "    train_flat = train_X.reshape(train_X.shape[0], -1).astype(np.float) / 255.0\n",
    "    test_flat = test_X.reshape(test_X.shape[0], -1).astype(np.float) / 255.0\n",
    "    \n",
    "    # Subtract mean\n",
    "    mean_image = np.mean(train_flat, axis = 0)\n",
    "    train_flat -= mean_image\n",
    "    test_flat -= mean_image\n",
    "    \n",
    "    return train_flat, test_flat\n",
    "    \n",
    "train_X, train_y, test_X, test_y = load_svhn(\"data\", max_train=10000, max_test=1000)    \n",
    "train_X, test_X = prepare_for_neural_network(train_X, test_X)\n",
    "# Split train into train and val\n",
    "train_X, train_y, val_X, val_y = random_split_train_val(train_X, train_y, num_val = 1000)"
   ]
  },
  {
   "cell_type": "markdown",
   "metadata": {},
   "source": [
    "# Как всегда, начинаем с кирпичиков\n",
    "\n",
    "Мы будем реализовывать необходимые нам слои по очереди. Каждый слой должен реализовать:\n",
    "- прямой проход (forward pass), который генерирует выход слоя по входу и запоминает необходимые данные\n",
    "- обратный проход (backward pass), который получает градиент по выходу слоя и вычисляет градиент по входу и по параметрам\n",
    "\n",
    "Начнем с ReLU, у которого параметров нет."
   ]
  },
  {
   "cell_type": "code",
   "execution_count": 5,
   "metadata": {},
   "outputs": [
    {
     "ename": "NameError",
     "evalue": "name 'X' is not defined",
     "output_type": "error",
     "traceback": [
      "\u001b[0;31m---------------------------------------------------------------------------\u001b[0m",
      "\u001b[0;31mNameError\u001b[0m                                 Traceback (most recent call last)",
      "\u001b[0;32m<ipython-input-5-bc5f1a0adac8>\u001b[0m in \u001b[0;36m<module>\u001b[0;34m\u001b[0m\n\u001b[0;32m----> 1\u001b[0;31m \u001b[0mX\u001b[0m\u001b[0;34m.\u001b[0m\u001b[0mshape\u001b[0m\u001b[0;34m\u001b[0m\u001b[0;34m\u001b[0m\u001b[0m\n\u001b[0m",
      "\u001b[0;31mNameError\u001b[0m: name 'X' is not defined"
     ]
    }
   ],
   "source": [
    "X.shape"
   ]
  },
  {
   "cell_type": "code",
   "execution_count": 6,
   "metadata": {
    "scrolled": false
   },
   "outputs": [
    {
     "name": "stdout",
     "output_type": "stream",
     "text": [
      "Gradient check passed!\n"
     ]
    }
   ],
   "source": [
    "# TODO: Implement ReLULayer layer in layers.py\n",
    "# Note: you'll need to copy implementation of the gradient_check function from the previous assignment\n",
    "\n",
    "X = np.array([[1,-2,3],\n",
    "              [-1, 2, 0.1]\n",
    "              ])\n",
    "\n",
    "assert check_layer_gradient(ReLULayer(), X)"
   ]
  },
  {
   "cell_type": "markdown",
   "metadata": {},
   "source": [
    "А теперь реализуем полносвязный слой (fully connected layer), у которого будет два массива параметров: W (weights) и B (bias).\n",
    "\n",
    "Все параметры наши слои будут использовать для параметров специальный класс `Param`, в котором будут храниться значения параметров и градиенты этих параметров, вычисляемые во время обратного прохода.\n",
    "\n",
    "Это даст возможность аккумулировать (суммировать) градиенты из разных частей функции потерь, например, из cross-entropy loss и regularization loss."
   ]
  },
  {
   "cell_type": "code",
   "execution_count": 7,
   "metadata": {},
   "outputs": [
    {
     "name": "stdout",
     "output_type": "stream",
     "text": [
      "Gradient check passed!\n",
      "Gradient check passed!\n",
      "Gradient check passed!\n"
     ]
    }
   ],
   "source": [
    "# TODO: Implement FullyConnected layer forward and backward methods\n",
    "assert check_layer_gradient(FullyConnectedLayer(3, 4), X)\n",
    "# TODO: Implement storing gradients for W and B\n",
    "assert check_layer_param_gradient(FullyConnectedLayer(3, 4), X, 'W')\n",
    "assert check_layer_param_gradient(FullyConnectedLayer(3, 4), X, 'B')"
   ]
  },
  {
   "cell_type": "markdown",
   "metadata": {},
   "source": [
    "## Создаем нейронную сеть\n",
    "\n",
    "Теперь мы реализуем простейшую нейронную сеть с двумя полносвязным слоями и нелинейностью ReLU. Реализуйте функцию `compute_loss_and_gradients`, она должна запустить прямой и обратный проход через оба слоя для вычисления градиентов.\n",
    "\n",
    "Не забудьте реализовать очистку градиентов в начале функции."
   ]
  },
  {
   "cell_type": "code",
   "execution_count": 35,
   "metadata": {},
   "outputs": [
    {
     "name": "stdout",
     "output_type": "stream",
     "text": [
      "Checking gradient for fc1_W\n",
      "Gradient check passed!\n",
      "Checking gradient for fc1_B\n",
      "Gradient check passed!\n",
      "Checking gradient for fc2_W\n",
      "Gradient check passed!\n",
      "Checking gradient for fc2_B\n",
      "Gradient check passed!\n"
     ]
    },
    {
     "data": {
      "text/plain": [
       "True"
      ]
     },
     "execution_count": 35,
     "metadata": {},
     "output_type": "execute_result"
    }
   ],
   "source": [
    "# TODO: In model.py, implement compute_loss_and_gradients function\n",
    "model = TwoLayerNet(n_input = train_X.shape[1], n_output = 10, hidden_layer_size = 3, reg = 0)\n",
    "loss = model.compute_loss_and_gradients(train_X[:2], train_y[:2])\n",
    "\n",
    "# TODO Now implement backward pass and aggregate all of the params\n",
    "check_model_gradient(model, train_X[:2], train_y[:2])"
   ]
  },
  {
   "cell_type": "markdown",
   "metadata": {},
   "source": [
    "Теперь добавьте к модели регуляризацию - она должна прибавляться к loss и делать свой вклад в градиенты."
   ]
  },
  {
   "cell_type": "code",
   "execution_count": 36,
   "metadata": {},
   "outputs": [
    {
     "name": "stdout",
     "output_type": "stream",
     "text": [
      "Checking gradient for fc1_W\n",
      "Gradient check passed!\n",
      "Checking gradient for fc1_B\n",
      "Gradient check passed!\n",
      "Checking gradient for fc2_W\n",
      "Gradient check passed!\n",
      "Checking gradient for fc2_B\n",
      "Gradient check passed!\n"
     ]
    },
    {
     "data": {
      "text/plain": [
       "True"
      ]
     },
     "execution_count": 36,
     "metadata": {},
     "output_type": "execute_result"
    }
   ],
   "source": [
    "# TODO Now implement l2 regularization in the forward and backward pass\n",
    "model_with_reg = TwoLayerNet(n_input = train_X.shape[1], n_output = 10, hidden_layer_size = 3, reg = 1e1)\n",
    "loss_with_reg = model_with_reg.compute_loss_and_gradients(train_X[:2], train_y[:2])\n",
    "assert loss_with_reg > loss and not np.isclose(loss_with_reg, loss), \\\n",
    "    \"Loss with regularization (%2.4f) should be higher than without it (%2.4f)!\" % (loss, loss_with_reg)\n",
    "\n",
    "check_model_gradient(model_with_reg, train_X[:2], train_y[:2])"
   ]
  },
  {
   "cell_type": "markdown",
   "metadata": {},
   "source": [
    "Также реализуем функцию предсказания (вычисления значения) модели на новых данных.\n",
    "\n",
    "Какое значение точности мы ожидаем увидеть до начала тренировки?"
   ]
  },
  {
   "cell_type": "code",
   "execution_count": 51,
   "metadata": {},
   "outputs": [
    {
     "data": {
      "text/plain": [
       "0.1"
      ]
     },
     "execution_count": 51,
     "metadata": {},
     "output_type": "execute_result"
    }
   ],
   "source": [
    "# Finally, implement predict function!\n",
    "\n",
    "# TODO: Implement predict function\n",
    "# What would be the value we expect?\n",
    "multiclass_accuracy(model_with_reg.predict(train_X[:30]), train_y[:30]) \n",
    "\n",
    "#0.1, так как количество классов = 10. "
   ]
  },
  {
   "cell_type": "markdown",
   "metadata": {},
   "source": [
    "# Допишем код для процесса тренировки\n",
    "\n",
    "Если все реализовано корректно, значение функции ошибки должно уменьшаться с каждой эпохой, пусть и медленно. Не беспокойтесь пока про validation accuracy."
   ]
  },
  {
   "cell_type": "code",
   "execution_count": 54,
   "metadata": {},
   "outputs": [
    {
     "name": "stdout",
     "output_type": "stream",
     "text": [
      "Loss: 2.302446, Train accuracy: 0.148222, val accuracy: 0.140000\n",
      "Loss: 2.301769, Train accuracy: 0.196667, val accuracy: 0.206000\n",
      "Loss: 2.302113, Train accuracy: 0.148222, val accuracy: 0.140000\n",
      "Loss: 2.301477, Train accuracy: 0.196667, val accuracy: 0.206000\n",
      "Loss: 2.302177, Train accuracy: 0.196667, val accuracy: 0.206000\n",
      "Loss: 2.302148, Train accuracy: 0.148222, val accuracy: 0.140000\n",
      "Loss: 2.301415, Train accuracy: 0.196667, val accuracy: 0.206000\n",
      "Loss: 2.302803, Train accuracy: 0.196667, val accuracy: 0.206000\n",
      "Loss: 2.301005, Train accuracy: 0.196667, val accuracy: 0.206000\n",
      "Loss: 2.302052, Train accuracy: 0.196667, val accuracy: 0.206000\n",
      "Loss: 2.302110, Train accuracy: 0.196667, val accuracy: 0.206000\n",
      "Loss: 2.302246, Train accuracy: 0.196667, val accuracy: 0.206000\n",
      "Loss: 2.302364, Train accuracy: 0.148222, val accuracy: 0.140000\n",
      "Loss: 2.301510, Train accuracy: 0.196667, val accuracy: 0.206000\n",
      "Loss: 2.303201, Train accuracy: 0.196667, val accuracy: 0.206000\n",
      "Loss: 2.302023, Train accuracy: 0.196667, val accuracy: 0.206000\n",
      "Loss: 2.302463, Train accuracy: 0.196667, val accuracy: 0.206000\n",
      "Loss: 2.302703, Train accuracy: 0.196667, val accuracy: 0.206000\n",
      "Loss: 2.302282, Train accuracy: 0.196667, val accuracy: 0.206000\n",
      "Loss: 2.302915, Train accuracy: 0.196667, val accuracy: 0.206000\n"
     ]
    }
   ],
   "source": [
    "model = TwoLayerNet(n_input = train_X.shape[1], n_output = 10, hidden_layer_size = 100, reg = 1e1)\n",
    "dataset = Dataset(train_X, train_y, val_X, val_y)\n",
    "trainer = Trainer(model, dataset, SGD(), learning_rate = 1e-2)\n",
    "\n",
    "# TODO Implement missing pieces in Trainer.fit function\n",
    "# You should expect loss to go down every epoch, even if it's slow\n",
    "loss_history, train_history, val_history = trainer.fit()"
   ]
  },
  {
   "cell_type": "code",
   "execution_count": 55,
   "metadata": {},
   "outputs": [
    {
     "data": {
      "text/plain": [
       "[<matplotlib.lines.Line2D at 0x114e72be0>]"
      ]
     },
     "execution_count": 55,
     "metadata": {},
     "output_type": "execute_result"
    },
    {
     "data": {
      "image/png": "[encoded data removed]",
      "text/plain": [
       "<Figure size 432x288 with 1 Axes>"
      ]
     },
     "metadata": {
      "needs_background": "light"
     },
     "output_type": "display_data"
    }
   ],
   "source": [
    "plt.plot(train_history)\n",
    "plt.plot(val_history)"
   ]
  },
  {
   "cell_type": "markdown",
   "metadata": {},
   "source": [
    "# Улучшаем процесс тренировки\n",
    "\n",
    "Мы реализуем несколько ключевых оптимизаций, необходимых для тренировки современных нейросетей."
   ]
  },
  {
   "cell_type": "markdown",
   "metadata": {},
   "source": [
    "## Уменьшение скорости обучения (learning rate decay)\n",
    "\n",
    "Одна из необходимых оптимизаций во время тренировки нейронных сетей - постепенное уменьшение скорости обучения по мере тренировки.\n",
    "\n",
    "Один из стандартных методов - уменьшение скорости обучения (learning rate) каждые N эпох на коэффициент d (часто называемый decay). Значения N и d, как всегда, являются гиперпараметрами и должны подбираться на основе эффективности на проверочных данных (validation data). \n",
    "\n",
    "В нашем случае N будет равным 1."
   ]
  },
  {
   "cell_type": "code",
   "execution_count": 56,
   "metadata": {},
   "outputs": [
    {
     "name": "stdout",
     "output_type": "stream",
     "text": [
      "Loss: 2.279816, Train accuracy: 0.196667, val accuracy: 0.206000\n",
      "Loss: 2.276095, Train accuracy: 0.196667, val accuracy: 0.206000\n",
      "Loss: 2.302537, Train accuracy: 0.196667, val accuracy: 0.206000\n",
      "Loss: 2.261553, Train accuracy: 0.196667, val accuracy: 0.206000\n",
      "Loss: 2.258660, Train accuracy: 0.196667, val accuracy: 0.206000\n",
      "Loss: 2.199851, Train accuracy: 0.196667, val accuracy: 0.206000\n",
      "Loss: 2.252869, Train accuracy: 0.196667, val accuracy: 0.206000\n",
      "Loss: 2.316060, Train accuracy: 0.196667, val accuracy: 0.206000\n",
      "Loss: 2.261071, Train accuracy: 0.196667, val accuracy: 0.206000\n",
      "Loss: 2.294550, Train accuracy: 0.196667, val accuracy: 0.206000\n",
      "Loss: 2.213962, Train accuracy: 0.196667, val accuracy: 0.206000\n",
      "Loss: 2.328531, Train accuracy: 0.196667, val accuracy: 0.206000\n",
      "Loss: 2.265298, Train accuracy: 0.196667, val accuracy: 0.206000\n",
      "Loss: 2.300449, Train accuracy: 0.196667, val accuracy: 0.206000\n",
      "Loss: 2.279637, Train accuracy: 0.196667, val accuracy: 0.206000\n",
      "Loss: 2.326617, Train accuracy: 0.196667, val accuracy: 0.206000\n",
      "Loss: 2.225565, Train accuracy: 0.196667, val accuracy: 0.206000\n",
      "Loss: 2.283718, Train accuracy: 0.196667, val accuracy: 0.206000\n",
      "Loss: 2.239371, Train accuracy: 0.196667, val accuracy: 0.206000\n",
      "Loss: 2.246414, Train accuracy: 0.196667, val accuracy: 0.206000\n"
     ]
    }
   ],
   "source": [
    "# TODO Implement learning rate decay inside Trainer.fit method\n",
    "# Decay should happen once per epoch\n",
    "\n",
    "model = TwoLayerNet(n_input = train_X.shape[1], n_output = 10, hidden_layer_size = 100, reg = 1e-1)\n",
    "dataset = Dataset(train_X, train_y, val_X, val_y)\n",
    "trainer = Trainer(model, dataset, SGD(), learning_rate_decay=0.99)\n",
    "\n",
    "initial_learning_rate = trainer.learning_rate\n",
    "loss_history, train_history, val_history = trainer.fit()\n",
    "\n",
    "assert trainer.learning_rate < initial_learning_rate, \"Learning rate should've been reduced\"\n",
    "assert trainer.learning_rate > 0.5*initial_learning_rate, \"Learning rate shouldn'tve been reduced that much!\""
   ]
  },
  {
   "cell_type": "markdown",
   "metadata": {},
   "source": [
    "# Накопление импульса (Momentum SGD)\n",
    "\n",
    "Другой большой класс оптимизаций - использование более эффективных методов градиентного спуска. Мы реализуем один из них - накопление импульса (Momentum SGD).\n",
    "\n",
    "Этот метод хранит скорость движения, использует градиент для ее изменения на каждом шаге, и изменяет веса пропорционально значению скорости.\n",
    "(Физическая аналогия: Вместо скорости градиенты теперь будут задавать ускорение, но будет присутствовать сила трения.)\n",
    "\n",
    "```\n",
    "velocity = momentum * velocity - learning_rate * gradient \n",
    "w = w + velocity\n",
    "```\n",
    "\n",
    "`momentum` здесь коэффициент затухания, который тоже является гиперпараметром (к счастью, для него часто есть хорошее значение по умолчанию, типичный диапазон -- 0.8-0.99).\n",
    "\n",
    "Несколько полезных ссылок, где метод разбирается более подробно:  \n",
    "http://cs231n.github.io/neural-networks-3/#sgd  \n",
    "https://distill.pub/2017/momentum/"
   ]
  },
  {
   "cell_type": "code",
   "execution_count": 67,
   "metadata": {},
   "outputs": [
    {
     "name": "stdout",
     "output_type": "stream",
     "text": [
      "Loss: 2.322298, Train accuracy: 0.196667, val accuracy: 0.206000\n",
      "Loss: 2.321196, Train accuracy: 0.196667, val accuracy: 0.206000\n",
      "Loss: 2.320152, Train accuracy: 0.196667, val accuracy: 0.206000\n",
      "Loss: 2.288661, Train accuracy: 0.196667, val accuracy: 0.206000\n",
      "Loss: 2.301428, Train accuracy: 0.196667, val accuracy: 0.206000\n",
      "Loss: 2.274276, Train accuracy: 0.196667, val accuracy: 0.206000\n",
      "Loss: 2.291370, Train accuracy: 0.196667, val accuracy: 0.206000\n",
      "Loss: 2.303885, Train accuracy: 0.196667, val accuracy: 0.206000\n",
      "Loss: 2.270436, Train accuracy: 0.196667, val accuracy: 0.206000\n",
      "Loss: 2.316613, Train accuracy: 0.196667, val accuracy: 0.206000\n",
      "Loss: 2.298564, Train accuracy: 0.196667, val accuracy: 0.206000\n",
      "Loss: 2.261651, Train accuracy: 0.196667, val accuracy: 0.206000\n",
      "Loss: 2.301345, Train accuracy: 0.196667, val accuracy: 0.206000\n",
      "Loss: 2.316311, Train accuracy: 0.196667, val accuracy: 0.206000\n",
      "Loss: 2.319727, Train accuracy: 0.196667, val accuracy: 0.206000\n",
      "Loss: 2.288807, Train accuracy: 0.196667, val accuracy: 0.206000\n",
      "Loss: 2.297131, Train accuracy: 0.196667, val accuracy: 0.206000\n",
      "Loss: 2.277209, Train accuracy: 0.196667, val accuracy: 0.206000\n",
      "Loss: 2.263782, Train accuracy: 0.196667, val accuracy: 0.206000\n",
      "Loss: 2.303246, Train accuracy: 0.196667, val accuracy: 0.206000\n"
     ]
    }
   ],
   "source": [
    "# TODO: Implement MomentumSGD.update function in optim.py\n",
    "\n",
    "model = TwoLayerNet(n_input = train_X.shape[1], n_output = 10, hidden_layer_size = 100, reg = 1e-1)\n",
    "dataset = Dataset(train_X, train_y, val_X, val_y)\n",
    "trainer = Trainer(model, dataset, MomentumSGD(), learning_rate=1e-4, learning_rate_decay=0.89)\n",
    "\n",
    "# You should see even better results than before!\n",
    "loss_history, train_history, val_history = trainer.fit()"
   ]
  },
  {
   "cell_type": "markdown",
   "metadata": {},
   "source": [
    "# Ну что, давайте уже тренировать сеть!"
   ]
  },
  {
   "cell_type": "markdown",
   "metadata": {},
   "source": [
    "## Последний тест - переобучимся (overfit) на маленьком наборе данных\n",
    "\n",
    "Хороший способ проверить, все ли реализовано корректно - переобучить сеть на маленьком наборе данных.  \n",
    "Наша модель обладает достаточной мощностью, чтобы приблизить маленький набор данных идеально, поэтому мы ожидаем, что на нем мы быстро дойдем до 100% точности на тренировочном наборе. \n",
    "\n",
    "Если этого не происходит, то где-то была допущена ошибка!"
   ]
  },
  {
   "cell_type": "code",
   "execution_count": 68,
   "metadata": {},
   "outputs": [
    {
     "name": "stdout",
     "output_type": "stream",
     "text": [
      "Loss: 2.331153, Train accuracy: 0.200000, val accuracy: 0.133333\n",
      "Loss: 2.319485, Train accuracy: 0.200000, val accuracy: 0.133333\n",
      "Loss: 2.310202, Train accuracy: 0.200000, val accuracy: 0.066667\n",
      "Loss: 2.294249, Train accuracy: 0.200000, val accuracy: 0.133333\n",
      "Loss: 2.267769, Train accuracy: 0.266667, val accuracy: 0.000000\n",
      "Loss: 2.310169, Train accuracy: 0.266667, val accuracy: 0.000000\n",
      "Loss: 2.272425, Train accuracy: 0.266667, val accuracy: 0.000000\n",
      "Loss: 2.230343, Train accuracy: 0.266667, val accuracy: 0.000000\n",
      "Loss: 2.079480, Train accuracy: 0.266667, val accuracy: 0.000000\n",
      "Loss: 2.192102, Train accuracy: 0.400000, val accuracy: 0.000000\n",
      "Loss: 2.333190, Train accuracy: 0.400000, val accuracy: 0.000000\n",
      "Loss: 2.397284, Train accuracy: 0.400000, val accuracy: 0.000000\n",
      "Loss: 1.707860, Train accuracy: 0.400000, val accuracy: 0.000000\n",
      "Loss: 2.136497, Train accuracy: 0.333333, val accuracy: 0.000000\n",
      "Loss: 1.780975, Train accuracy: 0.333333, val accuracy: 0.000000\n",
      "Loss: 1.959194, Train accuracy: 0.333333, val accuracy: 0.000000\n",
      "Loss: 1.992249, Train accuracy: 0.333333, val accuracy: 0.000000\n",
      "Loss: 1.891989, Train accuracy: 0.400000, val accuracy: 0.000000\n",
      "Loss: 1.508097, Train accuracy: 0.400000, val accuracy: 0.000000\n",
      "Loss: 1.516502, Train accuracy: 0.400000, val accuracy: 0.000000\n",
      "Loss: 2.015787, Train accuracy: 0.400000, val accuracy: 0.000000\n",
      "Loss: 2.349749, Train accuracy: 0.466667, val accuracy: 0.000000\n",
      "Loss: 1.597977, Train accuracy: 0.400000, val accuracy: 0.000000\n",
      "Loss: 1.426765, Train accuracy: 0.400000, val accuracy: 0.066667\n",
      "Loss: 2.028993, Train accuracy: 0.466667, val accuracy: 0.066667\n",
      "Loss: 1.541714, Train accuracy: 0.466667, val accuracy: 0.000000\n",
      "Loss: 1.523968, Train accuracy: 0.466667, val accuracy: 0.000000\n",
      "Loss: 1.470031, Train accuracy: 0.466667, val accuracy: 0.000000\n",
      "Loss: 2.042223, Train accuracy: 0.466667, val accuracy: 0.066667\n",
      "Loss: 1.320444, Train accuracy: 0.533333, val accuracy: 0.000000\n",
      "Loss: 2.084809, Train accuracy: 0.533333, val accuracy: 0.066667\n",
      "Loss: 1.568773, Train accuracy: 0.533333, val accuracy: 0.066667\n",
      "Loss: 1.058103, Train accuracy: 0.533333, val accuracy: 0.066667\n",
      "Loss: 1.630199, Train accuracy: 0.533333, val accuracy: 0.000000\n",
      "Loss: 1.321790, Train accuracy: 0.600000, val accuracy: 0.000000\n",
      "Loss: 1.364429, Train accuracy: 0.666667, val accuracy: 0.066667\n",
      "Loss: 1.849007, Train accuracy: 0.666667, val accuracy: 0.066667\n",
      "Loss: 1.756186, Train accuracy: 0.666667, val accuracy: 0.066667\n",
      "Loss: 2.169528, Train accuracy: 0.733333, val accuracy: 0.066667\n",
      "Loss: 1.174673, Train accuracy: 0.666667, val accuracy: 0.066667\n",
      "Loss: 1.771525, Train accuracy: 0.666667, val accuracy: 0.066667\n",
      "Loss: 1.016340, Train accuracy: 0.600000, val accuracy: 0.066667\n",
      "Loss: 1.564313, Train accuracy: 0.600000, val accuracy: 0.000000\n",
      "Loss: 1.568751, Train accuracy: 0.666667, val accuracy: 0.066667\n",
      "Loss: 1.372781, Train accuracy: 0.666667, val accuracy: 0.000000\n",
      "Loss: 1.189267, Train accuracy: 0.600000, val accuracy: 0.000000\n",
      "Loss: 1.451450, Train accuracy: 0.733333, val accuracy: 0.066667\n",
      "Loss: 1.564430, Train accuracy: 0.733333, val accuracy: 0.066667\n",
      "Loss: 1.567166, Train accuracy: 0.733333, val accuracy: 0.133333\n",
      "Loss: 1.301771, Train accuracy: 0.733333, val accuracy: 0.066667\n",
      "Loss: 1.691307, Train accuracy: 0.733333, val accuracy: 0.066667\n",
      "Loss: 0.959121, Train accuracy: 0.733333, val accuracy: 0.066667\n",
      "Loss: 1.880799, Train accuracy: 0.733333, val accuracy: 0.066667\n",
      "Loss: 2.135335, Train accuracy: 0.733333, val accuracy: 0.066667\n",
      "Loss: 1.541687, Train accuracy: 0.733333, val accuracy: 0.000000\n",
      "Loss: 0.880920, Train accuracy: 0.733333, val accuracy: 0.066667\n",
      "Loss: 2.278346, Train accuracy: 0.733333, val accuracy: 0.066667\n",
      "Loss: 1.596572, Train accuracy: 0.733333, val accuracy: 0.066667\n",
      "Loss: 1.636427, Train accuracy: 0.733333, val accuracy: 0.066667\n",
      "Loss: 1.263676, Train accuracy: 0.733333, val accuracy: 0.066667\n",
      "Loss: 1.280011, Train accuracy: 0.733333, val accuracy: 0.066667\n",
      "Loss: 1.690119, Train accuracy: 0.733333, val accuracy: 0.066667\n",
      "Loss: 1.302855, Train accuracy: 0.733333, val accuracy: 0.066667\n",
      "Loss: 1.474342, Train accuracy: 0.733333, val accuracy: 0.066667\n",
      "Loss: 1.226216, Train accuracy: 0.733333, val accuracy: 0.066667\n",
      "Loss: 1.692227, Train accuracy: 0.733333, val accuracy: 0.066667\n",
      "Loss: 1.602363, Train accuracy: 0.733333, val accuracy: 0.066667\n",
      "Loss: 1.222041, Train accuracy: 0.733333, val accuracy: 0.066667\n",
      "Loss: 2.102354, Train accuracy: 0.733333, val accuracy: 0.066667\n",
      "Loss: 1.697068, Train accuracy: 0.800000, val accuracy: 0.066667\n",
      "Loss: 1.657005, Train accuracy: 0.866667, val accuracy: 0.066667\n",
      "Loss: 1.672257, Train accuracy: 0.866667, val accuracy: 0.066667\n",
      "Loss: 1.284474, Train accuracy: 0.866667, val accuracy: 0.066667\n",
      "Loss: 1.514149, Train accuracy: 0.866667, val accuracy: 0.066667\n",
      "Loss: 1.362322, Train accuracy: 0.866667, val accuracy: 0.066667\n",
      "Loss: 1.622598, Train accuracy: 0.866667, val accuracy: 0.066667\n",
      "Loss: 1.598950, Train accuracy: 0.866667, val accuracy: 0.066667\n",
      "Loss: 1.636689, Train accuracy: 0.866667, val accuracy: 0.066667\n",
      "Loss: 1.650404, Train accuracy: 0.866667, val accuracy: 0.066667\n",
      "Loss: 1.303066, Train accuracy: 0.933333, val accuracy: 0.066667\n",
      "Loss: 1.157793, Train accuracy: 0.866667, val accuracy: 0.066667\n",
      "Loss: 1.888470, Train accuracy: 0.866667, val accuracy: 0.066667\n",
      "Loss: 1.301639, Train accuracy: 0.933333, val accuracy: 0.066667\n",
      "Loss: 1.323328, Train accuracy: 0.933333, val accuracy: 0.066667\n",
      "Loss: 1.456056, Train accuracy: 0.933333, val accuracy: 0.066667\n",
      "Loss: 1.592102, Train accuracy: 0.933333, val accuracy: 0.066667\n",
      "Loss: 1.027894, Train accuracy: 0.866667, val accuracy: 0.066667\n",
      "Loss: 1.606007, Train accuracy: 0.933333, val accuracy: 0.066667\n",
      "Loss: 1.235845, Train accuracy: 0.933333, val accuracy: 0.066667\n",
      "Loss: 1.272714, Train accuracy: 0.933333, val accuracy: 0.066667\n",
      "Loss: 1.554669, Train accuracy: 0.933333, val accuracy: 0.066667\n",
      "Loss: 1.249534, Train accuracy: 0.933333, val accuracy: 0.066667\n",
      "Loss: 1.371096, Train accuracy: 0.933333, val accuracy: 0.066667\n",
      "Loss: 1.567070, Train accuracy: 0.933333, val accuracy: 0.066667\n",
      "Loss: 1.263040, Train accuracy: 0.933333, val accuracy: 0.000000\n",
      "Loss: 1.267806, Train accuracy: 0.933333, val accuracy: 0.000000\n",
      "Loss: 1.385452, Train accuracy: 0.933333, val accuracy: 0.000000\n",
      "Loss: 0.980953, Train accuracy: 0.933333, val accuracy: 0.000000\n",
      "Loss: 1.259739, Train accuracy: 0.933333, val accuracy: 0.000000\n",
      "Loss: 1.321781, Train accuracy: 0.933333, val accuracy: 0.000000\n",
      "Loss: 1.566508, Train accuracy: 0.933333, val accuracy: 0.000000\n",
      "Loss: 1.222777, Train accuracy: 0.933333, val accuracy: 0.000000\n",
      "Loss: 1.633162, Train accuracy: 0.933333, val accuracy: 0.000000\n",
      "Loss: 1.728482, Train accuracy: 0.933333, val accuracy: 0.000000\n",
      "Loss: 1.559565, Train accuracy: 0.933333, val accuracy: 0.000000\n",
      "Loss: 1.533431, Train accuracy: 0.933333, val accuracy: 0.000000\n",
      "Loss: 1.165641, Train accuracy: 0.933333, val accuracy: 0.000000\n",
      "Loss: 1.503011, Train accuracy: 0.933333, val accuracy: 0.000000\n",
      "Loss: 1.635184, Train accuracy: 1.000000, val accuracy: 0.000000\n",
      "Loss: 1.381262, Train accuracy: 0.933333, val accuracy: 0.000000\n",
      "Loss: 1.324540, Train accuracy: 0.933333, val accuracy: 0.000000\n",
      "Loss: 1.125684, Train accuracy: 0.933333, val accuracy: 0.000000\n",
      "Loss: 1.159176, Train accuracy: 0.933333, val accuracy: 0.000000\n",
      "Loss: 1.218835, Train accuracy: 0.933333, val accuracy: 0.000000\n",
      "Loss: 1.268056, Train accuracy: 0.933333, val accuracy: 0.000000\n",
      "Loss: 1.097033, Train accuracy: 0.933333, val accuracy: 0.000000\n",
      "Loss: 1.141135, Train accuracy: 0.933333, val accuracy: 0.000000\n",
      "Loss: 1.147408, Train accuracy: 0.933333, val accuracy: 0.000000\n",
      "Loss: 1.114398, Train accuracy: 0.933333, val accuracy: 0.000000\n",
      "Loss: 1.302670, Train accuracy: 0.933333, val accuracy: 0.000000\n",
      "Loss: 1.312551, Train accuracy: 1.000000, val accuracy: 0.000000\n",
      "Loss: 1.288891, Train accuracy: 1.000000, val accuracy: 0.000000\n",
      "Loss: 1.430106, Train accuracy: 1.000000, val accuracy: 0.000000\n",
      "Loss: 1.219437, Train accuracy: 1.000000, val accuracy: 0.000000\n",
      "Loss: 1.465110, Train accuracy: 0.933333, val accuracy: 0.000000\n",
      "Loss: 1.194220, Train accuracy: 0.933333, val accuracy: 0.000000\n",
      "Loss: 1.171476, Train accuracy: 1.000000, val accuracy: 0.000000\n"
     ]
    },
    {
     "name": "stdout",
     "output_type": "stream",
     "text": [
      "Loss: 1.133824, Train accuracy: 1.000000, val accuracy: 0.000000\n",
      "Loss: 1.622532, Train accuracy: 1.000000, val accuracy: 0.000000\n",
      "Loss: 1.126915, Train accuracy: 1.000000, val accuracy: 0.000000\n",
      "Loss: 1.504876, Train accuracy: 1.000000, val accuracy: 0.000000\n",
      "Loss: 1.308758, Train accuracy: 1.000000, val accuracy: 0.000000\n",
      "Loss: 1.242236, Train accuracy: 1.000000, val accuracy: 0.000000\n",
      "Loss: 1.316953, Train accuracy: 1.000000, val accuracy: 0.000000\n",
      "Loss: 1.127420, Train accuracy: 1.000000, val accuracy: 0.000000\n",
      "Loss: 1.336672, Train accuracy: 1.000000, val accuracy: 0.000000\n",
      "Loss: 1.326583, Train accuracy: 1.000000, val accuracy: 0.000000\n",
      "Loss: 1.391557, Train accuracy: 1.000000, val accuracy: 0.000000\n",
      "Loss: 1.242850, Train accuracy: 1.000000, val accuracy: 0.000000\n",
      "Loss: 1.171301, Train accuracy: 1.000000, val accuracy: 0.000000\n",
      "Loss: 1.321793, Train accuracy: 1.000000, val accuracy: 0.000000\n",
      "Loss: 1.568719, Train accuracy: 1.000000, val accuracy: 0.000000\n",
      "Loss: 1.568855, Train accuracy: 1.000000, val accuracy: 0.000000\n",
      "Loss: 1.312827, Train accuracy: 1.000000, val accuracy: 0.000000\n",
      "Loss: 1.617106, Train accuracy: 1.000000, val accuracy: 0.000000\n",
      "Loss: 1.217849, Train accuracy: 1.000000, val accuracy: 0.000000\n",
      "Loss: 1.413417, Train accuracy: 1.000000, val accuracy: 0.000000\n",
      "Loss: 1.368696, Train accuracy: 1.000000, val accuracy: 0.000000\n",
      "Loss: 1.375302, Train accuracy: 1.000000, val accuracy: 0.000000\n",
      "Loss: 1.392779, Train accuracy: 1.000000, val accuracy: 0.000000\n"
     ]
    }
   ],
   "source": [
    "data_size = 15\n",
    "model = TwoLayerNet(n_input = train_X.shape[1], n_output = 10, hidden_layer_size = 100, reg = 1e-1)\n",
    "dataset = Dataset(train_X[:data_size], train_y[:data_size], val_X[:data_size], val_y[:data_size])\n",
    "trainer = Trainer(model, dataset, SGD(), learning_rate=1e-1, num_epochs=150, batch_size=5)\n",
    "\n",
    "# You should expect this to reach 1.0 training accuracy \n",
    "loss_history, train_history, val_history = trainer.fit()"
   ]
  },
  {
   "cell_type": "markdown",
   "metadata": {},
   "source": [
    "Теперь найдем гипепараметры, для которых этот процесс сходится быстрее.\n",
    "Если все реализовано корректно, то существуют параметры, при которых процесс сходится в **20** эпох или еще быстрее.\n",
    "Найдите их!"
   ]
  },
  {
   "cell_type": "code",
   "execution_count": 82,
   "metadata": {},
   "outputs": [
    {
     "name": "stdout",
     "output_type": "stream",
     "text": [
      "Loss: 2.314016, Train accuracy: 0.200000, val accuracy: 0.066667\n",
      "Loss: 2.270437, Train accuracy: 0.266667, val accuracy: 0.000000\n",
      "Loss: 2.277316, Train accuracy: 0.400000, val accuracy: 0.000000\n",
      "Loss: 2.062609, Train accuracy: 0.400000, val accuracy: 0.000000\n",
      "Loss: 1.684136, Train accuracy: 0.400000, val accuracy: 0.000000\n",
      "Loss: 1.849816, Train accuracy: 0.466667, val accuracy: 0.066667\n",
      "Loss: 1.301826, Train accuracy: 0.400000, val accuracy: 0.066667\n",
      "Loss: 1.727921, Train accuracy: 0.466667, val accuracy: 0.000000\n",
      "Loss: 1.615777, Train accuracy: 0.600000, val accuracy: 0.133333\n",
      "Loss: 1.241614, Train accuracy: 0.466667, val accuracy: 0.133333\n",
      "Loss: 1.549091, Train accuracy: 0.600000, val accuracy: 0.000000\n",
      "Loss: 1.273008, Train accuracy: 0.666667, val accuracy: 0.066667\n",
      "Loss: 1.217543, Train accuracy: 0.800000, val accuracy: 0.066667\n",
      "Loss: 0.891656, Train accuracy: 0.800000, val accuracy: 0.066667\n",
      "Loss: 0.367313, Train accuracy: 0.800000, val accuracy: 0.066667\n",
      "Loss: 1.070984, Train accuracy: 0.933333, val accuracy: 0.000000\n",
      "Loss: 0.172215, Train accuracy: 0.933333, val accuracy: 0.000000\n",
      "Loss: 0.405956, Train accuracy: 1.000000, val accuracy: 0.000000\n",
      "Loss: 0.579181, Train accuracy: 1.000000, val accuracy: 0.000000\n",
      "Loss: 0.100012, Train accuracy: 1.000000, val accuracy: 0.000000\n"
     ]
    }
   ],
   "source": [
    "# Now, tweak some hyper parameters and make it train to 1.0 accuracy in 20 epochs or less\n",
    "\n",
    "model = TwoLayerNet(n_input = train_X.shape[1], n_output = 10, hidden_layer_size = 1000, reg = 1e-3)\n",
    "dataset = Dataset(train_X[:data_size], train_y[:data_size], val_X[:data_size], val_y[:data_size])\n",
    "# TODO: Change any hyperparamers or optimizators to reach training accuracy in 20 epochs\n",
    "trainer = Trainer(model, dataset, SGD(), learning_rate=2e-1, num_epochs=20, batch_size=5)\n",
    "\n",
    "loss_history, train_history, val_history = trainer.fit()"
   ]
  },
  {
   "cell_type": "markdown",
   "metadata": {},
   "source": [
    "# Итак, основное мероприятие!\n",
    "\n",
    "Натренируйте лучшую нейросеть! Можно добавлять и изменять параметры, менять количество нейронов в слоях сети и как угодно экспериментировать. \n",
    "\n",
    "Добейтесь точности лучше **60%** на validation set."
   ]
  },
  {
   "cell_type": "code",
   "execution_count": 96,
   "metadata": {
    "scrolled": true
   },
   "outputs": [
    {
     "name": "stdout",
     "output_type": "stream",
     "text": [
      "Epoch: 0, Loss: 2.313215, Train accuracy: 0.196667, val accuracy: 0.206000\n",
      "Epoch: 1, Loss: 2.271794, Train accuracy: 0.196667, val accuracy: 0.206000\n",
      "Epoch: 2, Loss: 2.243684, Train accuracy: 0.196667, val accuracy: 0.206000\n",
      "Epoch: 3, Loss: 2.198240, Train accuracy: 0.196667, val accuracy: 0.206000\n",
      "Epoch: 4, Loss: 2.189183, Train accuracy: 0.196667, val accuracy: 0.206000\n",
      "Epoch: 5, Loss: 2.226161, Train accuracy: 0.196667, val accuracy: 0.206000\n",
      "Epoch: 6, Loss: 2.314014, Train accuracy: 0.196667, val accuracy: 0.206000\n",
      "Epoch: 7, Loss: 2.290646, Train accuracy: 0.196667, val accuracy: 0.206000\n",
      "Epoch: 8, Loss: 2.198725, Train accuracy: 0.196667, val accuracy: 0.206000\n",
      "Epoch: 9, Loss: 2.305571, Train accuracy: 0.196667, val accuracy: 0.206000\n",
      "Epoch: 10, Loss: 2.269494, Train accuracy: 0.196667, val accuracy: 0.206000\n",
      "Epoch: 11, Loss: 2.224045, Train accuracy: 0.196667, val accuracy: 0.206000\n",
      "Epoch: 12, Loss: 2.098623, Train accuracy: 0.196667, val accuracy: 0.206000\n",
      "Epoch: 13, Loss: 2.304180, Train accuracy: 0.196667, val accuracy: 0.206000\n",
      "Epoch: 14, Loss: 2.380452, Train accuracy: 0.196667, val accuracy: 0.206000\n",
      "Epoch: 15, Loss: 2.273963, Train accuracy: 0.196667, val accuracy: 0.206000\n",
      "Epoch: 16, Loss: 2.276056, Train accuracy: 0.196667, val accuracy: 0.206000\n",
      "Epoch: 17, Loss: 2.215086, Train accuracy: 0.196667, val accuracy: 0.206000\n",
      "Epoch: 18, Loss: 2.322621, Train accuracy: 0.196667, val accuracy: 0.206000\n",
      "Epoch: 19, Loss: 2.258152, Train accuracy: 0.196667, val accuracy: 0.206000\n",
      "Epoch: 20, Loss: 2.153668, Train accuracy: 0.196667, val accuracy: 0.206000\n",
      "Epoch: 21, Loss: 2.251784, Train accuracy: 0.196667, val accuracy: 0.206000\n",
      "Epoch: 22, Loss: 2.172575, Train accuracy: 0.196667, val accuracy: 0.206000\n",
      "Epoch: 23, Loss: 2.181496, Train accuracy: 0.196667, val accuracy: 0.206000\n",
      "Epoch: 24, Loss: 2.258790, Train accuracy: 0.196667, val accuracy: 0.206000\n",
      "Epoch: 25, Loss: 2.186645, Train accuracy: 0.196667, val accuracy: 0.206000\n",
      "Epoch: 26, Loss: 2.173274, Train accuracy: 0.196667, val accuracy: 0.206000\n",
      "Epoch: 27, Loss: 2.280868, Train accuracy: 0.198444, val accuracy: 0.206000\n",
      "Epoch: 28, Loss: 2.044850, Train accuracy: 0.200222, val accuracy: 0.213000\n",
      "Epoch: 29, Loss: 2.175314, Train accuracy: 0.205111, val accuracy: 0.212000\n",
      "Epoch: 30, Loss: 2.058662, Train accuracy: 0.211222, val accuracy: 0.220000\n",
      "Epoch: 31, Loss: 2.270706, Train accuracy: 0.215333, val accuracy: 0.225000\n",
      "Epoch: 32, Loss: 2.012289, Train accuracy: 0.221667, val accuracy: 0.228000\n",
      "Epoch: 33, Loss: 2.206273, Train accuracy: 0.230111, val accuracy: 0.231000\n",
      "Epoch: 34, Loss: 2.191561, Train accuracy: 0.235000, val accuracy: 0.240000\n",
      "Epoch: 35, Loss: 2.125523, Train accuracy: 0.240333, val accuracy: 0.244000\n",
      "Epoch: 36, Loss: 2.108415, Train accuracy: 0.246111, val accuracy: 0.249000\n",
      "Epoch: 37, Loss: 2.195398, Train accuracy: 0.250778, val accuracy: 0.251000\n",
      "Epoch: 38, Loss: 1.991486, Train accuracy: 0.254333, val accuracy: 0.257000\n",
      "Epoch: 39, Loss: 2.183703, Train accuracy: 0.261000, val accuracy: 0.262000\n",
      "Epoch: 40, Loss: 2.280517, Train accuracy: 0.262889, val accuracy: 0.262000\n",
      "Epoch: 41, Loss: 2.137178, Train accuracy: 0.267889, val accuracy: 0.266000\n",
      "Epoch: 42, Loss: 2.015069, Train accuracy: 0.271444, val accuracy: 0.270000\n",
      "Epoch: 43, Loss: 2.115068, Train accuracy: 0.271778, val accuracy: 0.269000\n",
      "Epoch: 44, Loss: 2.081353, Train accuracy: 0.274889, val accuracy: 0.274000\n",
      "Epoch: 45, Loss: 2.109959, Train accuracy: 0.275222, val accuracy: 0.276000\n",
      "Epoch: 46, Loss: 2.026163, Train accuracy: 0.276333, val accuracy: 0.277000\n",
      "Epoch: 47, Loss: 2.069762, Train accuracy: 0.276444, val accuracy: 0.277000\n",
      "Epoch: 48, Loss: 2.008134, Train accuracy: 0.279000, val accuracy: 0.282000\n",
      "Epoch: 49, Loss: 2.012312, Train accuracy: 0.279667, val accuracy: 0.279000\n",
      "Epoch: 50, Loss: 2.053824, Train accuracy: 0.282667, val accuracy: 0.281000\n",
      "Epoch: 51, Loss: 2.154535, Train accuracy: 0.282778, val accuracy: 0.283000\n",
      "Epoch: 52, Loss: 1.868592, Train accuracy: 0.283889, val accuracy: 0.285000\n",
      "Epoch: 53, Loss: 2.164983, Train accuracy: 0.287222, val accuracy: 0.291000\n",
      "Epoch: 54, Loss: 2.130112, Train accuracy: 0.289444, val accuracy: 0.292000\n",
      "Epoch: 55, Loss: 1.952656, Train accuracy: 0.290889, val accuracy: 0.294000\n",
      "Epoch: 56, Loss: 1.990170, Train accuracy: 0.294222, val accuracy: 0.294000\n",
      "Epoch: 57, Loss: 2.029770, Train accuracy: 0.297222, val accuracy: 0.299000\n",
      "Epoch: 58, Loss: 1.960153, Train accuracy: 0.299889, val accuracy: 0.304000\n",
      "Epoch: 59, Loss: 2.045909, Train accuracy: 0.304000, val accuracy: 0.306000\n",
      "Epoch: 60, Loss: 1.880396, Train accuracy: 0.306556, val accuracy: 0.309000\n",
      "Epoch: 61, Loss: 1.808344, Train accuracy: 0.312667, val accuracy: 0.316000\n",
      "Epoch: 62, Loss: 1.991635, Train accuracy: 0.316000, val accuracy: 0.320000\n",
      "Epoch: 63, Loss: 2.105713, Train accuracy: 0.324111, val accuracy: 0.324000\n",
      "Epoch: 64, Loss: 1.988016, Train accuracy: 0.328000, val accuracy: 0.329000\n",
      "Epoch: 65, Loss: 1.940949, Train accuracy: 0.334000, val accuracy: 0.334000\n",
      "Epoch: 66, Loss: 2.098204, Train accuracy: 0.340222, val accuracy: 0.340000\n",
      "Epoch: 67, Loss: 2.058601, Train accuracy: 0.343667, val accuracy: 0.348000\n",
      "Epoch: 68, Loss: 1.860872, Train accuracy: 0.347778, val accuracy: 0.347000\n",
      "Epoch: 69, Loss: 1.907491, Train accuracy: 0.353111, val accuracy: 0.349000\n",
      "Epoch: 70, Loss: 1.950763, Train accuracy: 0.358222, val accuracy: 0.359000\n",
      "Epoch: 71, Loss: 2.036856, Train accuracy: 0.360111, val accuracy: 0.356000\n",
      "Epoch: 72, Loss: 2.030695, Train accuracy: 0.366000, val accuracy: 0.361000\n",
      "Epoch: 73, Loss: 2.126364, Train accuracy: 0.367222, val accuracy: 0.364000\n",
      "Epoch: 74, Loss: 2.100726, Train accuracy: 0.372778, val accuracy: 0.372000\n",
      "Epoch: 75, Loss: 2.069849, Train accuracy: 0.373222, val accuracy: 0.370000\n",
      "Epoch: 76, Loss: 1.925520, Train accuracy: 0.377889, val accuracy: 0.374000\n",
      "Epoch: 77, Loss: 1.937274, Train accuracy: 0.381778, val accuracy: 0.378000\n",
      "Epoch: 78, Loss: 1.924464, Train accuracy: 0.382556, val accuracy: 0.375000\n",
      "Epoch: 79, Loss: 2.008015, Train accuracy: 0.386111, val accuracy: 0.380000\n",
      "Epoch: 80, Loss: 1.936680, Train accuracy: 0.391444, val accuracy: 0.381000\n",
      "Epoch: 81, Loss: 1.768339, Train accuracy: 0.391111, val accuracy: 0.387000\n",
      "Epoch: 82, Loss: 1.857939, Train accuracy: 0.393000, val accuracy: 0.387000\n",
      "Epoch: 83, Loss: 1.961955, Train accuracy: 0.397556, val accuracy: 0.387000\n",
      "Epoch: 84, Loss: 1.974139, Train accuracy: 0.397333, val accuracy: 0.388000\n",
      "Epoch: 85, Loss: 2.171905, Train accuracy: 0.398444, val accuracy: 0.390000\n",
      "Epoch: 86, Loss: 2.106940, Train accuracy: 0.401778, val accuracy: 0.396000\n",
      "Epoch: 87, Loss: 1.929313, Train accuracy: 0.404778, val accuracy: 0.395000\n",
      "Epoch: 88, Loss: 1.703684, Train accuracy: 0.407111, val accuracy: 0.395000\n",
      "Epoch: 89, Loss: 1.829729, Train accuracy: 0.408778, val accuracy: 0.402000\n",
      "Epoch: 90, Loss: 1.958910, Train accuracy: 0.411111, val accuracy: 0.403000\n",
      "Epoch: 91, Loss: 2.063860, Train accuracy: 0.413667, val accuracy: 0.402000\n",
      "Epoch: 92, Loss: 2.033017, Train accuracy: 0.417000, val accuracy: 0.408000\n",
      "Epoch: 93, Loss: 1.712584, Train accuracy: 0.419889, val accuracy: 0.408000\n",
      "Epoch: 94, Loss: 1.919115, Train accuracy: 0.422000, val accuracy: 0.416000\n",
      "Epoch: 95, Loss: 1.851209, Train accuracy: 0.426444, val accuracy: 0.420000\n",
      "Epoch: 96, Loss: 2.110515, Train accuracy: 0.426222, val accuracy: 0.416000\n",
      "Epoch: 97, Loss: 2.029160, Train accuracy: 0.427778, val accuracy: 0.419000\n",
      "Epoch: 98, Loss: 2.003053, Train accuracy: 0.428111, val accuracy: 0.423000\n",
      "Epoch: 99, Loss: 1.930648, Train accuracy: 0.433889, val accuracy: 0.426000\n",
      "Epoch: 100, Loss: 1.893021, Train accuracy: 0.434444, val accuracy: 0.425000\n",
      "Epoch: 101, Loss: 1.976371, Train accuracy: 0.436222, val accuracy: 0.432000\n",
      "Epoch: 102, Loss: 1.868410, Train accuracy: 0.438222, val accuracy: 0.431000\n",
      "Epoch: 103, Loss: 1.790020, Train accuracy: 0.440667, val accuracy: 0.433000\n",
      "Epoch: 104, Loss: 1.866509, Train accuracy: 0.441000, val accuracy: 0.429000\n",
      "Epoch: 105, Loss: 1.675871, Train accuracy: 0.442000, val accuracy: 0.434000\n",
      "Epoch: 106, Loss: 1.790759, Train accuracy: 0.446778, val accuracy: 0.440000\n",
      "Epoch: 107, Loss: 1.801593, Train accuracy: 0.447778, val accuracy: 0.434000\n"
     ]
    },
    {
     "name": "stdout",
     "output_type": "stream",
     "text": [
      "Epoch: 108, Loss: 1.949311, Train accuracy: 0.450333, val accuracy: 0.441000\n",
      "Epoch: 109, Loss: 1.995691, Train accuracy: 0.451333, val accuracy: 0.442000\n",
      "Epoch: 110, Loss: 1.796316, Train accuracy: 0.454333, val accuracy: 0.445000\n",
      "Epoch: 111, Loss: 1.957700, Train accuracy: 0.454444, val accuracy: 0.443000\n",
      "Epoch: 112, Loss: 1.940085, Train accuracy: 0.455889, val accuracy: 0.446000\n",
      "Epoch: 113, Loss: 1.950080, Train accuracy: 0.457778, val accuracy: 0.451000\n",
      "Epoch: 114, Loss: 1.829501, Train accuracy: 0.459333, val accuracy: 0.452000\n",
      "Epoch: 115, Loss: 2.009002, Train accuracy: 0.460444, val accuracy: 0.453000\n",
      "Epoch: 116, Loss: 1.723678, Train accuracy: 0.462333, val accuracy: 0.456000\n",
      "Epoch: 117, Loss: 1.921634, Train accuracy: 0.463778, val accuracy: 0.459000\n",
      "Epoch: 118, Loss: 1.873470, Train accuracy: 0.466667, val accuracy: 0.461000\n",
      "Epoch: 119, Loss: 1.975975, Train accuracy: 0.467333, val accuracy: 0.456000\n",
      "Epoch: 120, Loss: 1.882789, Train accuracy: 0.467889, val accuracy: 0.463000\n",
      "Epoch: 121, Loss: 1.629764, Train accuracy: 0.469667, val accuracy: 0.462000\n",
      "Epoch: 122, Loss: 1.736777, Train accuracy: 0.474000, val accuracy: 0.465000\n",
      "Epoch: 123, Loss: 1.829282, Train accuracy: 0.473444, val accuracy: 0.466000\n",
      "Epoch: 124, Loss: 1.861355, Train accuracy: 0.474333, val accuracy: 0.464000\n",
      "Epoch: 125, Loss: 1.648896, Train accuracy: 0.475222, val accuracy: 0.465000\n",
      "Epoch: 126, Loss: 1.846480, Train accuracy: 0.476556, val accuracy: 0.470000\n",
      "Epoch: 127, Loss: 1.826070, Train accuracy: 0.478556, val accuracy: 0.466000\n",
      "Epoch: 128, Loss: 1.649176, Train accuracy: 0.479000, val accuracy: 0.469000\n",
      "Epoch: 129, Loss: 2.015072, Train accuracy: 0.480333, val accuracy: 0.470000\n",
      "Epoch: 130, Loss: 2.133433, Train accuracy: 0.481667, val accuracy: 0.469000\n",
      "Epoch: 131, Loss: 1.863629, Train accuracy: 0.482444, val accuracy: 0.468000\n",
      "Epoch: 132, Loss: 2.015984, Train accuracy: 0.484556, val accuracy: 0.467000\n",
      "Epoch: 133, Loss: 1.937183, Train accuracy: 0.485111, val accuracy: 0.475000\n",
      "Epoch: 134, Loss: 1.849209, Train accuracy: 0.485667, val accuracy: 0.470000\n",
      "Epoch: 135, Loss: 1.519560, Train accuracy: 0.487556, val accuracy: 0.475000\n",
      "Epoch: 136, Loss: 1.465871, Train accuracy: 0.488222, val accuracy: 0.473000\n",
      "Epoch: 137, Loss: 1.929891, Train accuracy: 0.489556, val accuracy: 0.476000\n",
      "Epoch: 138, Loss: 1.623931, Train accuracy: 0.489778, val accuracy: 0.477000\n",
      "Epoch: 139, Loss: 1.775721, Train accuracy: 0.491556, val accuracy: 0.482000\n",
      "Epoch: 140, Loss: 1.925594, Train accuracy: 0.492333, val accuracy: 0.483000\n",
      "Epoch: 141, Loss: 1.920027, Train accuracy: 0.493556, val accuracy: 0.482000\n",
      "Epoch: 142, Loss: 1.983057, Train accuracy: 0.494444, val accuracy: 0.486000\n",
      "Epoch: 143, Loss: 1.729109, Train accuracy: 0.496222, val accuracy: 0.484000\n",
      "Epoch: 144, Loss: 1.859870, Train accuracy: 0.495444, val accuracy: 0.487000\n",
      "Epoch: 145, Loss: 1.692708, Train accuracy: 0.497000, val accuracy: 0.490000\n",
      "Epoch: 146, Loss: 1.959577, Train accuracy: 0.497667, val accuracy: 0.487000\n",
      "Epoch: 147, Loss: 1.731540, Train accuracy: 0.497667, val accuracy: 0.488000\n",
      "Epoch: 148, Loss: 1.797135, Train accuracy: 0.498333, val accuracy: 0.489000\n",
      "Epoch: 149, Loss: 1.673198, Train accuracy: 0.499667, val accuracy: 0.491000\n",
      "Epoch: 150, Loss: 1.989981, Train accuracy: 0.500889, val accuracy: 0.491000\n",
      "Epoch: 151, Loss: 1.839776, Train accuracy: 0.500444, val accuracy: 0.495000\n",
      "Epoch: 152, Loss: 1.789320, Train accuracy: 0.501444, val accuracy: 0.494000\n",
      "Epoch: 153, Loss: 1.663136, Train accuracy: 0.502000, val accuracy: 0.497000\n",
      "Epoch: 154, Loss: 1.703373, Train accuracy: 0.503333, val accuracy: 0.500000\n",
      "Epoch: 155, Loss: 1.941149, Train accuracy: 0.503111, val accuracy: 0.502000\n",
      "Epoch: 156, Loss: 1.900349, Train accuracy: 0.505111, val accuracy: 0.504000\n",
      "Epoch: 157, Loss: 1.872357, Train accuracy: 0.504889, val accuracy: 0.503000\n",
      "Epoch: 158, Loss: 1.795813, Train accuracy: 0.505444, val accuracy: 0.507000\n",
      "Epoch: 159, Loss: 1.980357, Train accuracy: 0.506667, val accuracy: 0.507000\n",
      "Epoch: 160, Loss: 1.701881, Train accuracy: 0.506111, val accuracy: 0.510000\n",
      "Epoch: 161, Loss: 1.771393, Train accuracy: 0.507556, val accuracy: 0.511000\n",
      "Epoch: 162, Loss: 1.912365, Train accuracy: 0.509222, val accuracy: 0.511000\n",
      "Epoch: 163, Loss: 1.946809, Train accuracy: 0.510556, val accuracy: 0.510000\n",
      "Epoch: 164, Loss: 1.950092, Train accuracy: 0.510111, val accuracy: 0.513000\n",
      "Epoch: 165, Loss: 2.006351, Train accuracy: 0.510444, val accuracy: 0.512000\n",
      "Epoch: 166, Loss: 1.796904, Train accuracy: 0.512778, val accuracy: 0.513000\n",
      "Epoch: 167, Loss: 1.855096, Train accuracy: 0.512889, val accuracy: 0.516000\n",
      "Epoch: 168, Loss: 1.974671, Train accuracy: 0.511889, val accuracy: 0.514000\n",
      "Epoch: 169, Loss: 1.788965, Train accuracy: 0.513000, val accuracy: 0.513000\n",
      "Epoch: 170, Loss: 2.149999, Train accuracy: 0.514444, val accuracy: 0.515000\n",
      "Epoch: 171, Loss: 1.838903, Train accuracy: 0.514778, val accuracy: 0.518000\n",
      "Epoch: 172, Loss: 1.918272, Train accuracy: 0.514778, val accuracy: 0.513000\n",
      "Epoch: 173, Loss: 2.008469, Train accuracy: 0.517000, val accuracy: 0.518000\n",
      "Epoch: 174, Loss: 1.864134, Train accuracy: 0.515556, val accuracy: 0.519000\n",
      "Epoch: 175, Loss: 1.835985, Train accuracy: 0.516556, val accuracy: 0.521000\n",
      "Epoch: 176, Loss: 1.669481, Train accuracy: 0.517111, val accuracy: 0.521000\n",
      "Epoch: 177, Loss: 1.959586, Train accuracy: 0.518000, val accuracy: 0.519000\n",
      "Epoch: 178, Loss: 1.697239, Train accuracy: 0.518889, val accuracy: 0.519000\n",
      "Epoch: 179, Loss: 1.767665, Train accuracy: 0.517556, val accuracy: 0.521000\n",
      "Epoch: 180, Loss: 1.684332, Train accuracy: 0.519000, val accuracy: 0.522000\n",
      "Epoch: 181, Loss: 1.844367, Train accuracy: 0.519444, val accuracy: 0.523000\n",
      "Epoch: 182, Loss: 1.441904, Train accuracy: 0.521444, val accuracy: 0.525000\n",
      "Epoch: 183, Loss: 1.843781, Train accuracy: 0.520333, val accuracy: 0.524000\n",
      "Epoch: 184, Loss: 2.014089, Train accuracy: 0.521222, val accuracy: 0.522000\n",
      "Epoch: 185, Loss: 1.737945, Train accuracy: 0.521333, val accuracy: 0.523000\n",
      "Epoch: 186, Loss: 2.083065, Train accuracy: 0.523111, val accuracy: 0.521000\n",
      "Epoch: 187, Loss: 1.717833, Train accuracy: 0.522444, val accuracy: 0.523000\n",
      "Epoch: 188, Loss: 1.810527, Train accuracy: 0.522889, val accuracy: 0.522000\n",
      "Epoch: 189, Loss: 1.780213, Train accuracy: 0.523444, val accuracy: 0.526000\n",
      "Epoch: 190, Loss: 1.771775, Train accuracy: 0.524667, val accuracy: 0.526000\n",
      "Epoch: 191, Loss: 1.864147, Train accuracy: 0.525000, val accuracy: 0.532000\n",
      "Epoch: 192, Loss: 1.891815, Train accuracy: 0.524889, val accuracy: 0.529000\n",
      "Epoch: 193, Loss: 1.769659, Train accuracy: 0.526000, val accuracy: 0.528000\n",
      "Epoch: 194, Loss: 1.828615, Train accuracy: 0.526000, val accuracy: 0.529000\n",
      "Epoch: 195, Loss: 1.820787, Train accuracy: 0.526556, val accuracy: 0.531000\n",
      "Epoch: 196, Loss: 1.850762, Train accuracy: 0.528000, val accuracy: 0.533000\n",
      "Epoch: 197, Loss: 1.904244, Train accuracy: 0.528222, val accuracy: 0.534000\n",
      "Epoch: 198, Loss: 1.562401, Train accuracy: 0.529667, val accuracy: 0.535000\n",
      "Epoch: 199, Loss: 1.766721, Train accuracy: 0.529778, val accuracy: 0.535000\n",
      "Epoch: 200, Loss: 1.927622, Train accuracy: 0.529889, val accuracy: 0.536000\n",
      "Epoch: 201, Loss: 1.493249, Train accuracy: 0.530889, val accuracy: 0.537000\n",
      "Epoch: 202, Loss: 1.663907, Train accuracy: 0.532000, val accuracy: 0.537000\n",
      "Epoch: 203, Loss: 1.720629, Train accuracy: 0.532111, val accuracy: 0.537000\n",
      "Epoch: 204, Loss: 1.707088, Train accuracy: 0.532111, val accuracy: 0.539000\n",
      "Epoch: 205, Loss: 1.859608, Train accuracy: 0.532111, val accuracy: 0.540000\n",
      "Epoch: 206, Loss: 1.793644, Train accuracy: 0.532556, val accuracy: 0.539000\n",
      "Epoch: 207, Loss: 1.905352, Train accuracy: 0.533778, val accuracy: 0.541000\n",
      "Epoch: 208, Loss: 1.817341, Train accuracy: 0.533111, val accuracy: 0.541000\n",
      "Epoch: 209, Loss: 1.852112, Train accuracy: 0.534222, val accuracy: 0.542000\n",
      "Epoch: 210, Loss: 2.061314, Train accuracy: 0.534111, val accuracy: 0.543000\n",
      "Epoch: 211, Loss: 1.988678, Train accuracy: 0.534333, val accuracy: 0.543000\n",
      "Epoch: 212, Loss: 1.942603, Train accuracy: 0.534667, val accuracy: 0.542000\n",
      "Epoch: 213, Loss: 2.063544, Train accuracy: 0.534889, val accuracy: 0.543000\n",
      "Epoch: 214, Loss: 1.835803, Train accuracy: 0.535222, val accuracy: 0.541000\n"
     ]
    },
    {
     "name": "stdout",
     "output_type": "stream",
     "text": [
      "Epoch: 215, Loss: 1.756757, Train accuracy: 0.535333, val accuracy: 0.544000\n",
      "Epoch: 216, Loss: 1.789471, Train accuracy: 0.536111, val accuracy: 0.542000\n",
      "Epoch: 217, Loss: 1.763937, Train accuracy: 0.536000, val accuracy: 0.544000\n",
      "Epoch: 218, Loss: 1.646639, Train accuracy: 0.536889, val accuracy: 0.539000\n",
      "Epoch: 219, Loss: 1.711820, Train accuracy: 0.537222, val accuracy: 0.541000\n",
      "Epoch: 220, Loss: 1.823619, Train accuracy: 0.537000, val accuracy: 0.542000\n",
      "Epoch: 221, Loss: 1.682347, Train accuracy: 0.537111, val accuracy: 0.543000\n",
      "Epoch: 222, Loss: 1.891623, Train accuracy: 0.537333, val accuracy: 0.541000\n",
      "Epoch: 223, Loss: 1.905200, Train accuracy: 0.537111, val accuracy: 0.542000\n",
      "Epoch: 224, Loss: 1.826172, Train accuracy: 0.537667, val accuracy: 0.545000\n",
      "Epoch: 225, Loss: 1.934972, Train accuracy: 0.538000, val accuracy: 0.544000\n",
      "Epoch: 226, Loss: 1.675747, Train accuracy: 0.538778, val accuracy: 0.542000\n",
      "Epoch: 227, Loss: 1.835156, Train accuracy: 0.539000, val accuracy: 0.543000\n",
      "Epoch: 228, Loss: 1.776562, Train accuracy: 0.539333, val accuracy: 0.544000\n",
      "Epoch: 229, Loss: 1.880332, Train accuracy: 0.539333, val accuracy: 0.543000\n",
      "Epoch: 230, Loss: 1.744214, Train accuracy: 0.540000, val accuracy: 0.543000\n",
      "Epoch: 231, Loss: 1.831320, Train accuracy: 0.539889, val accuracy: 0.543000\n",
      "Epoch: 232, Loss: 1.695232, Train accuracy: 0.539667, val accuracy: 0.544000\n",
      "Epoch: 233, Loss: 1.631488, Train accuracy: 0.540333, val accuracy: 0.544000\n",
      "Epoch: 234, Loss: 1.766240, Train accuracy: 0.540778, val accuracy: 0.544000\n",
      "Epoch: 235, Loss: 1.706156, Train accuracy: 0.541333, val accuracy: 0.545000\n",
      "Epoch: 236, Loss: 1.761601, Train accuracy: 0.541667, val accuracy: 0.546000\n",
      "Epoch: 237, Loss: 1.616975, Train accuracy: 0.541556, val accuracy: 0.546000\n",
      "Epoch: 238, Loss: 1.819850, Train accuracy: 0.542333, val accuracy: 0.546000\n",
      "Epoch: 239, Loss: 1.613766, Train accuracy: 0.542333, val accuracy: 0.546000\n",
      "Epoch: 240, Loss: 1.736763, Train accuracy: 0.542333, val accuracy: 0.546000\n",
      "Epoch: 241, Loss: 2.024200, Train accuracy: 0.543000, val accuracy: 0.546000\n",
      "Epoch: 242, Loss: 1.665558, Train accuracy: 0.542556, val accuracy: 0.546000\n",
      "Epoch: 243, Loss: 1.633311, Train accuracy: 0.543778, val accuracy: 0.545000\n",
      "Epoch: 244, Loss: 1.763883, Train accuracy: 0.543556, val accuracy: 0.546000\n",
      "Epoch: 245, Loss: 1.839842, Train accuracy: 0.544111, val accuracy: 0.546000\n",
      "Epoch: 246, Loss: 1.694042, Train accuracy: 0.544667, val accuracy: 0.546000\n",
      "Epoch: 247, Loss: 1.933601, Train accuracy: 0.544222, val accuracy: 0.546000\n",
      "Epoch: 248, Loss: 1.670932, Train accuracy: 0.545000, val accuracy: 0.546000\n",
      "Epoch: 249, Loss: 1.904381, Train accuracy: 0.545444, val accuracy: 0.546000\n",
      "Epoch: 250, Loss: 1.831760, Train accuracy: 0.545444, val accuracy: 0.546000\n",
      "Epoch: 251, Loss: 1.616500, Train accuracy: 0.546000, val accuracy: 0.546000\n",
      "Epoch: 252, Loss: 1.681760, Train accuracy: 0.545889, val accuracy: 0.546000\n",
      "Epoch: 253, Loss: 1.724707, Train accuracy: 0.545778, val accuracy: 0.546000\n",
      "Epoch: 254, Loss: 1.764320, Train accuracy: 0.546111, val accuracy: 0.546000\n",
      "Epoch: 255, Loss: 1.651806, Train accuracy: 0.546556, val accuracy: 0.546000\n",
      "Epoch: 256, Loss: 1.982237, Train accuracy: 0.546222, val accuracy: 0.546000\n",
      "Epoch: 257, Loss: 1.697304, Train accuracy: 0.546778, val accuracy: 0.548000\n",
      "Epoch: 258, Loss: 1.699881, Train accuracy: 0.546667, val accuracy: 0.549000\n",
      "Epoch: 259, Loss: 1.757679, Train accuracy: 0.546556, val accuracy: 0.548000\n",
      "Epoch: 260, Loss: 1.817790, Train accuracy: 0.547667, val accuracy: 0.549000\n",
      "Epoch: 261, Loss: 1.867832, Train accuracy: 0.547556, val accuracy: 0.550000\n",
      "Epoch: 262, Loss: 1.909242, Train accuracy: 0.548222, val accuracy: 0.549000\n",
      "Epoch: 263, Loss: 1.777007, Train accuracy: 0.549333, val accuracy: 0.551000\n",
      "Epoch: 264, Loss: 1.532140, Train accuracy: 0.549667, val accuracy: 0.550000\n",
      "Epoch: 265, Loss: 1.722648, Train accuracy: 0.549333, val accuracy: 0.551000\n",
      "Epoch: 266, Loss: 2.000252, Train accuracy: 0.549889, val accuracy: 0.550000\n",
      "Epoch: 267, Loss: 1.734076, Train accuracy: 0.550000, val accuracy: 0.552000\n",
      "Epoch: 268, Loss: 1.727408, Train accuracy: 0.549778, val accuracy: 0.552000\n",
      "Epoch: 269, Loss: 1.628964, Train accuracy: 0.550000, val accuracy: 0.551000\n",
      "Epoch: 270, Loss: 1.787304, Train accuracy: 0.550444, val accuracy: 0.552000\n",
      "Epoch: 271, Loss: 1.723328, Train accuracy: 0.550778, val accuracy: 0.552000\n",
      "Epoch: 272, Loss: 1.811643, Train accuracy: 0.550444, val accuracy: 0.553000\n",
      "Epoch: 273, Loss: 1.623408, Train accuracy: 0.550889, val accuracy: 0.553000\n",
      "Epoch: 274, Loss: 1.775409, Train accuracy: 0.551444, val accuracy: 0.553000\n",
      "Epoch: 275, Loss: 1.675778, Train accuracy: 0.551000, val accuracy: 0.554000\n",
      "Epoch: 276, Loss: 1.901070, Train accuracy: 0.551556, val accuracy: 0.553000\n",
      "Epoch: 277, Loss: 1.846359, Train accuracy: 0.551889, val accuracy: 0.553000\n",
      "Epoch: 278, Loss: 1.507020, Train accuracy: 0.552444, val accuracy: 0.553000\n",
      "Epoch: 279, Loss: 1.774278, Train accuracy: 0.552333, val accuracy: 0.554000\n",
      "Epoch: 280, Loss: 1.941172, Train accuracy: 0.552222, val accuracy: 0.554000\n",
      "Epoch: 281, Loss: 1.857605, Train accuracy: 0.552778, val accuracy: 0.553000\n",
      "Epoch: 282, Loss: 1.584959, Train accuracy: 0.552889, val accuracy: 0.553000\n",
      "Epoch: 283, Loss: 1.493143, Train accuracy: 0.553111, val accuracy: 0.554000\n",
      "Epoch: 284, Loss: 1.970499, Train accuracy: 0.553778, val accuracy: 0.554000\n",
      "Epoch: 285, Loss: 1.682050, Train accuracy: 0.553444, val accuracy: 0.554000\n",
      "Epoch: 286, Loss: 1.674654, Train accuracy: 0.554000, val accuracy: 0.554000\n",
      "Epoch: 287, Loss: 1.809425, Train accuracy: 0.553889, val accuracy: 0.553000\n",
      "Epoch: 288, Loss: 1.675031, Train accuracy: 0.554444, val accuracy: 0.554000\n",
      "Epoch: 289, Loss: 2.022093, Train accuracy: 0.554333, val accuracy: 0.555000\n",
      "Epoch: 290, Loss: 1.846617, Train accuracy: 0.555000, val accuracy: 0.554000\n",
      "Epoch: 291, Loss: 1.622896, Train accuracy: 0.555444, val accuracy: 0.554000\n",
      "Epoch: 292, Loss: 1.740878, Train accuracy: 0.555222, val accuracy: 0.556000\n",
      "Epoch: 293, Loss: 2.078383, Train accuracy: 0.555444, val accuracy: 0.554000\n",
      "Epoch: 294, Loss: 1.762673, Train accuracy: 0.555778, val accuracy: 0.555000\n",
      "Epoch: 295, Loss: 1.981018, Train accuracy: 0.555667, val accuracy: 0.555000\n",
      "Epoch: 296, Loss: 1.564302, Train accuracy: 0.555667, val accuracy: 0.555000\n",
      "Epoch: 297, Loss: 1.838546, Train accuracy: 0.556111, val accuracy: 0.555000\n",
      "Epoch: 298, Loss: 1.833966, Train accuracy: 0.556111, val accuracy: 0.559000\n",
      "Epoch: 299, Loss: 1.812952, Train accuracy: 0.556444, val accuracy: 0.559000\n",
      "Epoch: 300, Loss: 1.963442, Train accuracy: 0.556444, val accuracy: 0.559000\n",
      "Epoch: 301, Loss: 1.871976, Train accuracy: 0.556333, val accuracy: 0.559000\n",
      "Epoch: 302, Loss: 1.907471, Train accuracy: 0.556778, val accuracy: 0.559000\n",
      "Epoch: 303, Loss: 1.807126, Train accuracy: 0.556889, val accuracy: 0.559000\n",
      "Epoch: 304, Loss: 1.647021, Train accuracy: 0.557333, val accuracy: 0.559000\n",
      "Epoch: 305, Loss: 1.866212, Train accuracy: 0.556889, val accuracy: 0.559000\n",
      "Epoch: 306, Loss: 1.849315, Train accuracy: 0.558000, val accuracy: 0.559000\n",
      "Epoch: 307, Loss: 1.684534, Train accuracy: 0.558222, val accuracy: 0.559000\n",
      "Epoch: 308, Loss: 1.825908, Train accuracy: 0.559111, val accuracy: 0.559000\n",
      "Epoch: 309, Loss: 1.741757, Train accuracy: 0.559000, val accuracy: 0.559000\n",
      "Epoch: 310, Loss: 1.725344, Train accuracy: 0.559222, val accuracy: 0.559000\n",
      "Epoch: 311, Loss: 1.618885, Train accuracy: 0.559222, val accuracy: 0.559000\n",
      "Epoch: 312, Loss: 1.858137, Train accuracy: 0.559333, val accuracy: 0.560000\n",
      "Epoch: 313, Loss: 1.747939, Train accuracy: 0.559667, val accuracy: 0.559000\n",
      "Epoch: 314, Loss: 1.853660, Train accuracy: 0.559222, val accuracy: 0.560000\n",
      "Epoch: 315, Loss: 1.749154, Train accuracy: 0.559222, val accuracy: 0.559000\n",
      "Epoch: 316, Loss: 1.730680, Train accuracy: 0.559444, val accuracy: 0.559000\n",
      "Epoch: 317, Loss: 1.905146, Train accuracy: 0.559889, val accuracy: 0.560000\n",
      "Epoch: 318, Loss: 2.009239, Train accuracy: 0.559889, val accuracy: 0.561000\n",
      "Epoch: 319, Loss: 2.013865, Train accuracy: 0.560111, val accuracy: 0.560000\n",
      "Epoch: 320, Loss: 1.537354, Train accuracy: 0.559889, val accuracy: 0.561000\n",
      "Epoch: 321, Loss: 1.597018, Train accuracy: 0.560333, val accuracy: 0.561000\n"
     ]
    },
    {
     "name": "stdout",
     "output_type": "stream",
     "text": [
      "Epoch: 322, Loss: 1.754462, Train accuracy: 0.560778, val accuracy: 0.561000\n",
      "Epoch: 323, Loss: 1.947542, Train accuracy: 0.560778, val accuracy: 0.560000\n",
      "Epoch: 324, Loss: 1.924437, Train accuracy: 0.560444, val accuracy: 0.561000\n",
      "Epoch: 325, Loss: 1.715731, Train accuracy: 0.560667, val accuracy: 0.561000\n",
      "Epoch: 326, Loss: 1.812885, Train accuracy: 0.561222, val accuracy: 0.561000\n",
      "Epoch: 327, Loss: 1.625511, Train accuracy: 0.561222, val accuracy: 0.561000\n",
      "Epoch: 328, Loss: 1.912723, Train accuracy: 0.561333, val accuracy: 0.561000\n",
      "Epoch: 329, Loss: 1.662766, Train accuracy: 0.561556, val accuracy: 0.561000\n",
      "Epoch: 330, Loss: 1.616348, Train accuracy: 0.561556, val accuracy: 0.561000\n",
      "Epoch: 331, Loss: 1.473631, Train accuracy: 0.561333, val accuracy: 0.561000\n",
      "Epoch: 332, Loss: 1.575134, Train accuracy: 0.561556, val accuracy: 0.561000\n",
      "Epoch: 333, Loss: 1.699645, Train accuracy: 0.561444, val accuracy: 0.561000\n",
      "Epoch: 334, Loss: 2.076673, Train accuracy: 0.561333, val accuracy: 0.561000\n",
      "Epoch: 335, Loss: 1.904961, Train accuracy: 0.561889, val accuracy: 0.561000\n",
      "Epoch: 336, Loss: 1.922329, Train accuracy: 0.561778, val accuracy: 0.561000\n",
      "Epoch: 337, Loss: 1.763331, Train accuracy: 0.561667, val accuracy: 0.561000\n",
      "Epoch: 338, Loss: 1.676239, Train accuracy: 0.562000, val accuracy: 0.561000\n",
      "Epoch: 339, Loss: 1.872414, Train accuracy: 0.561889, val accuracy: 0.561000\n",
      "Epoch: 340, Loss: 1.698313, Train accuracy: 0.562444, val accuracy: 0.561000\n",
      "Epoch: 341, Loss: 1.813467, Train accuracy: 0.562222, val accuracy: 0.561000\n",
      "Epoch: 342, Loss: 1.755964, Train accuracy: 0.562222, val accuracy: 0.562000\n",
      "Epoch: 343, Loss: 1.825423, Train accuracy: 0.562000, val accuracy: 0.562000\n",
      "Epoch: 344, Loss: 2.032521, Train accuracy: 0.562111, val accuracy: 0.562000\n",
      "Epoch: 345, Loss: 1.563787, Train accuracy: 0.562111, val accuracy: 0.561000\n",
      "Epoch: 346, Loss: 1.732264, Train accuracy: 0.562111, val accuracy: 0.562000\n",
      "Epoch: 347, Loss: 1.916641, Train accuracy: 0.562778, val accuracy: 0.562000\n",
      "Epoch: 348, Loss: 1.740768, Train accuracy: 0.562667, val accuracy: 0.561000\n",
      "Epoch: 349, Loss: 1.614567, Train accuracy: 0.562444, val accuracy: 0.561000\n",
      "best validation accuracy achieved: 0.562000\n"
     ]
    }
   ],
   "source": [
    "# Let's train the best one-hidden-layer network we can\n",
    "\n",
    "learning_rates = 1e-3\n",
    "reg_strength = 1e-2\n",
    "learning_rate_decay = 0.99\n",
    "hidden_layer_size = 1024\n",
    "num_epochs = 350\n",
    "batch_size = 64\n",
    "\n",
    "best_classifier = None\n",
    "best_val_accuracy = None\n",
    "\n",
    "loss_history = []\n",
    "train_history = []\n",
    "val_history = []\n",
    "\n",
    "# TODO find the best hyperparameters to train the network\n",
    "# Don't hesitate to add new values to the arrays above, perform experiments, use any tricks you want\n",
    "# You should expect to get to at least 40% of valudation accuracy\n",
    "# Save loss/train/history of the best classifier to the variables above\n",
    "\n",
    "model = TwoLayerNet(n_input = train_X.shape[1], n_output = 10, hidden_layer_size = hidden_layer_size, reg = reg_strength)\n",
    "dataset = Dataset(train_X, train_y, val_X, val_y)\n",
    "trainer = Trainer(model, dataset, MomentumSGD(), learning_rate=learning_rates, num_epochs=num_epochs, batch_size=batch_size, learning_rate_decay=learning_rate_decay)\n",
    "\n",
    "loss_history, train_history, val_history = trainer.fit()\n",
    "best_val_accuracy = max(val_history)\n",
    "\n",
    "print('best validation accuracy achieved: %f' % best_val_accuracy)"
   ]
  },
  {
   "cell_type": "code",
   "execution_count": 97,
   "metadata": {},
   "outputs": [
    {
     "data": {
      "text/plain": [
       "[<matplotlib.lines.Line2D at 0x1150127c0>]"
      ]
     },
     "execution_count": 97,
     "metadata": {},
     "output_type": "execute_result"
    },
    {
     "data": {
      "image/png": "[encoded data removed]",
      "text/plain": [
       "<Figure size 1080x504 with 2 Axes>"
      ]
     },
     "metadata": {
      "needs_background": "light"
     },
     "output_type": "display_data"
    }
   ],
   "source": [
    "plt.figure(figsize=(15, 7))\n",
    "plt.subplot(211)\n",
    "plt.title(\"Loss\")\n",
    "plt.plot(loss_history)\n",
    "plt.subplot(212)\n",
    "plt.title(\"Train/validation accuracy\")\n",
    "plt.plot(train_history)\n",
    "plt.plot(val_history)"
   ]
  },
  {
   "cell_type": "markdown",
   "metadata": {},
   "source": [
    "# Как обычно, посмотрим, как наша лучшая модель работает на тестовых данных"
   ]
  },
  {
   "cell_type": "code",
   "execution_count": 100,
   "metadata": {},
   "outputs": [
    {
     "name": "stdout",
     "output_type": "stream",
     "text": [
      "Neural net test set accuracy: 0.514000\n"
     ]
    }
   ],
   "source": [
    "test_pred = model.predict(test_X)\n",
    "test_accuracy = multiclass_accuracy(test_pred, test_y)\n",
    "print('Neural net test set accuracy: %f' % (test_accuracy, ))"
   ]
  },
  {
   "cell_type": "code",
   "execution_count": null,
   "metadata": {},
   "outputs": [],
   "source": []
  }
 ],
 "metadata": {
  "kernelspec": {
   "display_name": "Python 3",
   "language": "python",
   "name": "python3"
  },
  "language_info": {
   "codemirror_mode": {
    "name": "ipython",
    "version": 3
   },
   "file_extension": ".py",
   "mimetype": "text/x-python",
   "name": "python",
   "nbconvert_exporter": "python",
   "pygments_lexer": "ipython3",
   "version": "3.8.5"
  }
 },
 "nbformat": 4,
 "nbformat_minor": 2
}
